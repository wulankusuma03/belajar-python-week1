{
 "cells": [
  {
   "cell_type": "markdown",
   "id": "d036e4ee-a0a3-4587-b245-67b03cadeea9",
   "metadata": {},
   "source": [
    "# A. Hello World"
   ]
  },
  {
   "cell_type": "code",
   "execution_count": 9,
   "id": "ad0c6e5c-4187-4ba7-a747-5a95e4d9c848",
   "metadata": {},
   "outputs": [
    {
     "name": "stdout",
     "output_type": "stream",
     "text": [
      "Hello World!\n",
      "Selamat Datang di PythonWorld! Mari Belajar Bersama\n"
     ]
    }
   ],
   "source": [
    "print(\"Hello World!\")\n",
    "print(\"\"\"Selamat Datang di PythonWorld! Mari Belajar Bersama\"\"\")"
   ]
  },
  {
   "cell_type": "markdown",
   "id": "32516b53-59b9-4565-b194-890f95e82aa4",
   "metadata": {},
   "source": [
    "# B. Variabel dan Tipe Data"
   ]
  },
  {
   "cell_type": "code",
   "execution_count": 28,
   "id": "be9b5c0b-6845-4568-9286-026bd392580f",
   "metadata": {},
   "outputs": [
    {
     "name": "stdout",
     "output_type": "stream",
     "text": [
      "Nama: Wulan\n",
      "Umur: 25\n",
      "Tinggi badan: 155.3 cm\n",
      "Apakah mahasiswi? True\n",
      "Judul buku? Belajar Python dari Nol\n",
      "Nama penulis? Wulan\n",
      "<class 'str'>\n",
      "<class 'int'>\n",
      "<class 'float'>\n",
      "<class 'bool'>\n",
      "<class 'str'>\n",
      "<class 'str'>\n",
      "<class 'list'>\n",
      "<class 'dict'>\n",
      "<class 'set'>\n",
      "True\n",
      "False\n",
      "False\n"
     ]
    }
   ],
   "source": [
    "# Variable python dan tipe data dasar\n",
    "nama = \"Wulan\" # str\n",
    "umur = 25 # int\n",
    "tinggi = 155.3 # float\n",
    "mahasiswi = True # bool\n",
    "judul = \"Belajar Python dari Nol\"\n",
    "penulis = \"Wulan\"\n",
    "\n",
    "# Menampilkan semua variable\n",
    "print(\"Nama:\", nama)\n",
    "print(\"Umur:\", umur)\n",
    "print(\"Tinggi badan:\", tinggi,\"cm\")\n",
    "print(\"Apakah mahasiswi?\", mahasiswi)\n",
    "print(\"Judul buku?\", judul)\n",
    "print(\"Nama penulis?\", penulis)\n",
    "\n",
    "# Menampilkan tipe data\n",
    "print(type(nama))\n",
    "print(type(umur))\n",
    "print(type(tinggi))\n",
    "print(type(mahasiswi))\n",
    "print(type(judul))\n",
    "print(type(penulis))\n",
    "print(type([\"Jawa\", \"Sunda\"]))\n",
    "print(type({\"nama\" : \"Wulan\", \"age\" : 25}))\n",
    "print(type({\"Wulan\" , \"dewi\"}))\n",
    "print(9 < 20)\n",
    "print(9 == 20)\n",
    "print(9 > 20)"
   ]
  },
  {
   "cell_type": "markdown",
   "id": "fa3622d2-3014-4546-9f5c-23616f2bdafd",
   "metadata": {},
   "source": [
    "# C. Operasi Dasar Aritmatika"
   ]
  },
  {
   "cell_type": "code",
   "execution_count": 37,
   "id": "560c67a5-dbc2-4674-9412-9084414d2340",
   "metadata": {},
   "outputs": [
    {
     "name": "stdout",
     "output_type": "stream",
     "text": [
      "Penjumlahan: 24\n",
      "Pengurangan: 16\n",
      "Perkalian: 80\n",
      "Pembagian: 5.0\n",
      "Modulus (sisa bagi): 0\n",
      "Pangkat: 160000\n",
      "SamaDengan: False\n",
      "Perbandingan A: True\n",
      "Perbandingan B: False\n"
     ]
    }
   ],
   "source": [
    "a = 20\n",
    "b = 4\n",
    "\n",
    "print(\"Penjumlahan:\", a+b)\n",
    "print(\"Pengurangan:\", a-b)\n",
    "print(\"Perkalian:\", a*b)\n",
    "print(\"Pembagian:\", a/b)\n",
    "print(\"Modulus (sisa bagi):\", a%b)\n",
    "print(\"Pangkat:\", a**b)\n",
    "print(\"SamaDengan:\", a==b)\n",
    "print(\"Perbandingan A:\", a>b)\n",
    "print(\"Perbandingan B:\", a<=b)"
   ]
  },
  {
   "cell_type": "markdown",
   "id": "25115133-8a8a-4d86-bef5-47aa6c6ff8e5",
   "metadata": {},
   "source": [
    "# D. Experiment dan Tugas Kecil Hari Pertama"
   ]
  },
  {
   "cell_type": "code",
   "execution_count": 49,
   "id": "de2f23fd-431d-41d3-8af0-d050d21b9b8a",
   "metadata": {},
   "outputs": [
    {
     "name": "stdout",
     "output_type": "stream",
     "text": [
      "Halo, Selamat datang di PythonWorld! Siapa nama kamu? Wulan, asal kota mana? Metro. Mari kita belajar bersama.\n",
      "Umur saya sekarang adalah 25 tahun.\n",
      "Masukkan angka pertama: 3.4, Masukkan angka kedua: 5. Hasil penjumlahan dari kedua angka adalah 8.4\n",
      "Masukkan 245 detik = 4 menit dan 5 detik\n",
      "Hasil dari penjualan ketiganya 10000\n"
     ]
    }
   ],
   "source": [
    "# Program Salam\n",
    "nama = \"Wulan\"\n",
    "kota = \"Metro\"\n",
    "\n",
    "print(f\"Halo, Selamat datang di PythonWorld! Siapa nama kamu? {nama}, asal kota mana? {kota}. Mari kita belajar bersama.\")\n",
    "\n",
    "# Kalkulator umur\n",
    "tahun_lahir = 2000\n",
    "tahun_sekarang = 2025\n",
    "\n",
    "umur = tahun_sekarang - tahun_lahir\n",
    "print(f\"Umur saya sekarang adalah {umur} tahun.\")\n",
    "\n",
    "# menjumlahkan dua angka\n",
    "angka_pertama = 3.4\n",
    "angka_kedua = 5\n",
    "\n",
    "hasil = angka_pertama + angka_kedua\n",
    "print(f\"\"\"Masukkan angka pertama: {angka_pertama}, Masukkan angka kedua: {angka_kedua}. Hasil penjumlahan dari kedua angka adalah {hasil}\"\"\")\n",
    "\n",
    "# konversi Detik ke Menit dan Detik\n",
    "total_detik = 245\n",
    "\n",
    "menit = total_detik // 60\n",
    "detik = total_detik % 60\n",
    "print(f\"Masukkan {total_detik} detik = {menit} menit dan {detik} detik\")\n",
    "\n",
    "#soal sederhana\n",
    "penjualan_1 = '5,000'\n",
    "penjualan_2 = '1,800'\n",
    "penjualan_3 = '3,200'\n",
    "\n",
    "penjualan_1b = int(penjualan_1.replace(\",\",\"\"))\n",
    "penjualan_2b = int(penjualan_2.replace(\",\",\"\"))\n",
    "penjualan_3b = int(penjualan_3.replace(\",\",\"\"))\n",
    "\n",
    "print(f\"Hasil dari penjualan ketiganya {penjualan_1b + penjualan_2b + penjualan_3b}\")"
   ]
  },
  {
   "cell_type": "code",
   "execution_count": null,
   "id": "d295e4cd-9716-40c7-94aa-14f98ba87fe4",
   "metadata": {},
   "outputs": [],
   "source": []
  }
 ],
 "metadata": {
  "kernelspec": {
   "display_name": "Python 3 (ipykernel)",
   "language": "python",
   "name": "python3"
  },
  "language_info": {
   "codemirror_mode": {
    "name": "ipython",
    "version": 3
   },
   "file_extension": ".py",
   "mimetype": "text/x-python",
   "name": "python",
   "nbconvert_exporter": "python",
   "pygments_lexer": "ipython3",
   "version": "3.13.5"
  }
 },
 "nbformat": 4,
 "nbformat_minor": 5
}
