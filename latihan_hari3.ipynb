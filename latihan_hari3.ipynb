{
 "cells": [
  {
   "cell_type": "code",
   "execution_count": 1,
   "id": "7e3aa010-e55e-494a-9a04-416a9e856cfe",
   "metadata": {},
   "outputs": [
    {
     "name": "stdout",
     "output_type": "stream",
     "text": [
      "sambiloto\n",
      "pegagan\n",
      "ginseng\n",
      "mangga\n",
      "anggur\n",
      "apel\n"
     ]
    }
   ],
   "source": [
    "# perulangan (for)\n",
    "tanaman_obat = [\"sambiloto\", \"pegagan\", \"ginseng\"]\n",
    "\n",
    "for x in tanaman_obat:\n",
    "    print(x)\n",
    "\n",
    "tanaman_buah = [\"mangga\", \"anggur\", \"apel\"]\n",
    "\n",
    "for a in tanaman_buah:\n",
    "    print(a)"
   ]
  },
  {
   "cell_type": "code",
   "execution_count": 2,
   "id": "bfe15d2f-5a54-4a79-a67e-5ba3624f26b5",
   "metadata": {},
   "outputs": [
    {
     "name": "stdout",
     "output_type": "stream",
     "text": [
      "2\n",
      "3\n",
      "4\n",
      "5\n",
      "6\n"
     ]
    }
   ],
   "source": [
    "for i in range(2,7):\n",
    "    print(i)"
   ]
  },
  {
   "cell_type": "code",
   "execution_count": 4,
   "id": "4630d70a-e3f5-4c94-b592-1d9a6937d0aa",
   "metadata": {},
   "outputs": [
    {
     "name": "stdout",
     "output_type": "stream",
     "text": [
      "bayam 5\n",
      "kangkung 8\n",
      "pakcoy 6\n"
     ]
    }
   ],
   "source": [
    "sayuran = [\"bayam\", \"kangkung\", \"pakcoy\"]\n",
    "\n",
    "for z in sayuran:\n",
    "    print(z, len(z))"
   ]
  },
  {
   "cell_type": "code",
   "execution_count": 5,
   "id": "839446f1-34c5-4d2e-a7d9-8d9bbacce497",
   "metadata": {},
   "outputs": [
    {
     "name": "stdout",
     "output_type": "stream",
     "text": [
      "k\n",
      "e\n",
      "l\n",
      "e\n",
      "n\n",
      "g\n",
      "k\n",
      "e\n",
      "n\n",
      "g\n"
     ]
    }
   ],
   "source": [
    "for g in \"kelengkeng\":\n",
    "    print(g)"
   ]
  },
  {
   "cell_type": "code",
   "execution_count": 6,
   "id": "1b6ef836-5726-48f3-8c04-610c6cfe1077",
   "metadata": {},
   "outputs": [
    {
     "name": "stdout",
     "output_type": "stream",
     "text": [
      "3\n",
      "6\n",
      "9\n",
      "12\n",
      "15\n",
      "18\n",
      "21\n",
      "24\n",
      "27\n",
      "2\n",
      "6\n",
      "10\n",
      "14\n",
      "18\n"
     ]
    }
   ],
   "source": [
    "# fungsi range bisa menaikkan urutan pengulangan sesuai kebutuhan dengan menambahkan parameter yang ketiga\n",
    "for a in range(3, 30, 3):\n",
    "    print(a)\n",
    "\n",
    "for b in range(2, 20, 4):\n",
    "    print(b)"
   ]
  },
  {
   "cell_type": "code",
   "execution_count": 9,
   "id": "fb8e2ec5-7687-4caf-871e-b26eb0f7eef6",
   "metadata": {},
   "outputs": [
    {
     "data": {
      "text/plain": [
       "{0: 0, 1: 1, 2: 8, 3: 27}"
      ]
     },
     "execution_count": 9,
     "metadata": {},
     "output_type": "execute_result"
    }
   ],
   "source": [
    "# fungsi for-dictionary\n",
    "{x: x**3 for x in range(0,4)}"
   ]
  },
  {
   "cell_type": "code",
   "execution_count": 17,
   "id": "9852f971-f3f6-4162-8639-ca38d56af275",
   "metadata": {},
   "outputs": [
    {
     "name": "stdout",
     "output_type": "stream",
     "text": [
      "rambutan\n",
      "pepaya\n",
      "strawberry\n",
      "0\n",
      "1\n",
      "2\n",
      "3\n",
      "4\n",
      "5\n",
      "6\n",
      "7\n"
     ]
    }
   ],
   "source": [
    "# for loop\n",
    "buah = [\"rambutan\", \"pepaya\", \"strawberry\"]\n",
    "for b in buah:\n",
    "    print(b)  # Loop berhenti otomatis setelah elemen terakhir\n",
    "\n",
    "for x in range(8):\n",
    "    print(x)  # Loop berhenti setelah x = 7"
   ]
  },
  {
   "cell_type": "code",
   "execution_count": 16,
   "id": "d67f1692-4bbb-4432-b7ec-4aef9b215b7d",
   "metadata": {},
   "outputs": [
    {
     "name": "stdin",
     "output_type": "stream",
     "text": [
      "Masukkan password: 1234\n"
     ]
    },
    {
     "name": "stdout",
     "output_type": "stream",
     "text": [
      "Akses diterima!\n",
      "0\n",
      "1\n",
      "2\n",
      "3\n",
      "4\n",
      "5\n",
      "6\n",
      "2\n",
      "4\n",
      "6\n",
      "8\n"
     ]
    }
   ],
   "source": [
    "# while loop\n",
    "password = \"\"\n",
    "while password != \"1234\":\n",
    "    password = input(\"Masukkan password:\")\n",
    "print(\"Akses diterima!\")\n",
    "\n",
    "counter = 0\n",
    "while counter < 7:\n",
    "    print(counter)\n",
    "    counter += 1\n",
    "\n",
    "i = 2\n",
    "while i < 9:\n",
    "     print(i)\n",
    "     i = i + 2"
   ]
  },
  {
   "cell_type": "code",
   "execution_count": 13,
   "id": "55c2754b-3442-41cb-b557-ccd9fececbcf",
   "metadata": {},
   "outputs": [
    {
     "name": "stdout",
     "output_type": "stream",
     "text": [
      "0\n",
      "1\n",
      "2\n"
     ]
    }
   ],
   "source": [
    "# kondisi true dalam perintah while dapat dihentikan dengan perintah break\n",
    "y = 0\n",
    "\n",
    "while y < 5:\n",
    "    print(y)\n",
    "    if y == 2:\n",
    "        break\n",
    "    y = y + 1"
   ]
  },
  {
   "cell_type": "code",
   "execution_count": 24,
   "id": "4b684942-f256-4f40-8a0d-d729df094eec",
   "metadata": {},
   "outputs": [
    {
     "name": "stdout",
     "output_type": "stream",
     "text": [
      "(1, 1)\n",
      "(1, 2)\n",
      "(1, 3)\n",
      "(2, 1)\n",
      "(2, 2)\n",
      "(2, 3)\n",
      "(3, 1)\n",
      "(3, 2)\n",
      "(3, 3)\n"
     ]
    }
   ],
   "source": [
    "# nested loop (tabel perkalian sederhana 1 - 3)\n",
    "for y in range(1, 4):  # Loop luar -> baris\n",
    "    for z in range(1, 4):  # Loop dalam -> kolom\n",
    "        print(f\"({y}, {z})\")"
   ]
  },
  {
   "cell_type": "code",
   "execution_count": null,
   "id": "9a7e8251-490f-4f44-8e51-347f091aacaa",
   "metadata": {},
   "outputs": [],
   "source": [
    "Nested Loop bisa juga pakai while di dalam for, atau while di dalam while.\n",
    "Contoh Nyata \n",
    "* Matriks / array 2D\n",
    "Loop luar -> baris\n",
    "Loop dalam -> elemen tiap baris\n",
    "* Pencarian kombinasi (misalnya semua pasangan pakaian atas & bawah)\n",
    "* Pola bintang"
   ]
  },
  {
   "cell_type": "code",
   "execution_count": 20,
   "id": "b69bbf2b-b612-44ce-af8b-452a9b141c6e",
   "metadata": {},
   "outputs": [
    {
     "name": "stdout",
     "output_type": "stream",
     "text": [
      "*\n",
      "**\n",
      "***\n",
      "****\n",
      "*****\n"
     ]
    }
   ],
   "source": [
    "# pola bintang pada nested loop\n",
    "for i in range(1,6):\n",
    "    for j in range(i):\n",
    "        print(\"*\", end=\"\")\n",
    "    print()"
   ]
  },
  {
   "cell_type": "code",
   "execution_count": 25,
   "id": "d8f8e086-ba34-4dc4-8f29-75b37cfd1828",
   "metadata": {},
   "outputs": [
    {
     "name": "stdout",
     "output_type": "stream",
     "text": [
      "1\t2\t3\t4\t5\t\n",
      "2\t4\t6\t8\t10\t\n",
      "3\t6\t9\t12\t15\t\n",
      "4\t8\t12\t16\t20\t\n",
      "5\t10\t15\t20\t25\t\n"
     ]
    }
   ],
   "source": [
    "# tabel perkaalian sederhana 1-5\n",
    "for f in range(1, 6):\n",
    "    for g in range(1, 6):\n",
    "        print(f * g, end=\"\\t\")\n",
    "    print() #ganti baris"
   ]
  },
  {
   "cell_type": "code",
   "execution_count": 28,
   "id": "f78cac19-c070-4578-875b-6e8bc642d248",
   "metadata": {},
   "outputs": [
    {
     "name": "stdout",
     "output_type": "stream",
     "text": [
      "1\n",
      "2\n",
      "3\n",
      "4\n",
      "5\n",
      "2\n",
      "3\n",
      "4\n",
      "6\n",
      "7\n",
      "1\n",
      "2\n",
      "3\n",
      "1\n",
      "3\n",
      "5\n",
      "Stop di sini!\n"
     ]
    }
   ],
   "source": [
    "# kontrol loop (Break)\n",
    "for angka in range(1, 10):\n",
    "    if angka == 6:\n",
    "        break   # keluar dari loop\n",
    "    print(angka)\n",
    "\n",
    "# kontrol loop (continue)\n",
    "for angka in range(2, 8):\n",
    "    if angka == 5:\n",
    "        continue \n",
    "    print(angka)\n",
    "\n",
    "# kontrol loop (pass)\n",
    "for angka in range(1, 4):\n",
    "    if angka == 2:\n",
    "       pass      # tidak melakukan apapun\n",
    "    print(angka)\n",
    "\n",
    "# kontrol loop gabungan\n",
    "for x in range(1, 8):\n",
    "    if x == 6:\n",
    "        print(\"Stop di sini!\")\n",
    "        break      # menghentikan loop\n",
    "    if x % 2 == 0:\n",
    "        continue   # skip angka genap\n",
    "    print(x)"
   ]
  },
  {
   "cell_type": "code",
   "execution_count": 34,
   "id": "a5c42770-fbce-495c-b432-7549656b1cbc",
   "metadata": {},
   "outputs": [
    {
     "name": "stdout",
     "output_type": "stream",
     "text": [
      "Halo dunia\n"
     ]
    }
   ],
   "source": [
    "# fungsi(def)\n",
    "def halo():\n",
    "    print(\"Halo dunia\")\n",
    "halo()"
   ]
  },
  {
   "cell_type": "code",
   "execution_count": 33,
   "id": "1ba7e7b8-015a-46e8-83b4-7051f1e0f5a6",
   "metadata": {},
   "outputs": [
    {
     "name": "stdin",
     "output_type": "stream",
     "text": [
      "Pajang Alas :  5\n",
      "Tinggi :  3.5\n"
     ]
    },
    {
     "name": "stdout",
     "output_type": "stream",
     "text": [
      "Luas Segitiga :  8.75\n"
     ]
    }
   ],
   "source": [
    "def luas_segitiga():\n",
    "    alas = input(\"Pajang Alas : \")\n",
    "    tinggi = input(\"Tinggi : \")\n",
    "    a = float(alas)\n",
    "    t = float(tinggi)\n",
    "    luas = 0.5 * a * t\n",
    "    print(\"Luas Segitiga : \", luas)\n",
    "luas_segitiga()"
   ]
  },
  {
   "cell_type": "code",
   "execution_count": 41,
   "id": "896e7ab4-ea90-4815-a25b-e0795a4c0311",
   "metadata": {},
   "outputs": [
    {
     "name": "stdout",
     "output_type": "stream",
     "text": [
      "Halo Wulan\n",
      "Bilangan Genap\n",
      "Bilangan Ganjil\n"
     ]
    }
   ],
   "source": [
    "# penggunaan parameter dan argumen (args)\n",
    "def sapa(nama):  # \"nama\" adalah parameter\n",
    "    print(f\"Halo {nama}\")\n",
    "sapa(\"Wulan\")   # \"Wulan\" adalah argumen\n",
    "\n",
    "# memasukkan nilai / parameter tertentu dalam parentheses () ketika memanggil blok fungsi\n",
    "def bilangan(n):\n",
    "    if n % 2 == 0:\n",
    "        print(\"Bilangan Genap\")\n",
    "    else:\n",
    "        print(\"Bilangan Ganjil\")\n",
    "bilangan(230)\n",
    "bilangan(115)"
   ]
  },
  {
   "cell_type": "code",
   "execution_count": 43,
   "id": "b7c76d30-f075-4f6f-988c-98257589e0f5",
   "metadata": {},
   "outputs": [
    {
     "name": "stdout",
     "output_type": "stream",
     "text": [
      "Wulan Dewi\n",
      "Ratu Dewi\n",
      "Putri Dewi\n",
      "Nama bunganya adalah Dandelion\n",
      "Nama: Wulan, Umur: 24\n",
      "6\n"
     ]
    },
    {
     "data": {
      "text/plain": [
       "40"
      ]
     },
     "execution_count": 43,
     "metadata": {},
     "output_type": "execute_result"
    }
   ],
   "source": [
    "# penggunaan function arguments (args)\n",
    "def nama(depan): # (depan) adalah args\n",
    "    print(depan + \" Dewi\")\n",
    "nama(\"Wulan\")\n",
    "nama(\"Ratu\")\n",
    "nama(\"Putri\")\n",
    "\n",
    "# penggunaan keyword arguments / key value (kwargs)\n",
    "def nama_bunga(bunga1, bunga2, bunga3):\n",
    "    print(\"Nama bunganya adalah \" + bunga3)\n",
    "nama_bunga(bunga1 = \"Mawar\", bunga2 = \"Melati\", bunga3 = \"Dandelion\")\n",
    "\n",
    "def profil(nama, umur):\n",
    "    print(f\"Nama: {nama}, Umur: {umur}\")\n",
    "profil(umur=24, nama=\"Wulan\")\n",
    "\n",
    "# penggunaa nilai kembalian (return)\n",
    "def tambah(a, b):\n",
    "    return a + b\n",
    "hasil = tambah(2, 4)\n",
    "print(hasil)\n",
    "\n",
    "def luas(panjang, lebar):\n",
    "    luas = panjang * lebar\n",
    "    return(luas)\n",
    "luas(5, 8)"
   ]
  },
  {
   "cell_type": "code",
   "execution_count": 54,
   "id": "0d978518-35d0-4692-a21f-e8f749037f47",
   "metadata": {},
   "outputs": [
    {
     "name": "stdout",
     "output_type": "stream",
     "text": [
      "153.93804002589985\n",
      "32.0\n"
     ]
    }
   ],
   "source": [
    "# Menghitung Luas Lingkaran\n",
    "import math\n",
    "\n",
    "def luas_lingkaran(r):\n",
    "    return math.pi * r ** 2\n",
    "print(luas_lingkaran(7))\n",
    "\n",
    "# Konversi Suhu\n",
    "def convert_f(f):\n",
    "    return (f* 9/5) + 32\n",
    "print(convert_f(0))"
   ]
  },
  {
   "cell_type": "code",
   "execution_count": null,
   "id": "99e1db8f-63e6-4ff6-a1eb-a51081393f16",
   "metadata": {},
   "outputs": [],
   "source": []
  }
 ],
 "metadata": {
  "kernelspec": {
   "display_name": "Python 3 (ipykernel)",
   "language": "python",
   "name": "python3"
  },
  "language_info": {
   "codemirror_mode": {
    "name": "ipython",
    "version": 3
   },
   "file_extension": ".py",
   "mimetype": "text/x-python",
   "name": "python",
   "nbconvert_exporter": "python",
   "pygments_lexer": "ipython3",
   "version": "3.13.5"
  }
 },
 "nbformat": 4,
 "nbformat_minor": 5
}
