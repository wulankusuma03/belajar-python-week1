{
 "cells": [
  {
   "cell_type": "markdown",
   "id": "69937b02-f42c-4c5f-90b2-3e7a07295d4e",
   "metadata": {},
   "source": [
    "# 1.) Error Handling\n",
    "- Apa itu error vs exception.\n",
    "- Perbedaan syntax error dan runtime error.\n",
    "- Struktur try, except, else, dan finally.\n",
    "- Menangkap exception spesifik (ValueError, FileNotFoundError, dll.)\n",
    "- Membuat custom excepton dengan class tururnan exception.\n",
    "- try -> bagian kode yang mungkin error.\n",
    "- except -> menangani error.\n",
    "- else -> dijalankan jika tidak ada error.\n",
    "- finally -> dijalankan apapun yang terjadi"
   ]
  },
  {
   "cell_type": "code",
   "execution_count": null,
   "id": "bae3fda5-1e22-40bf-9812-a1cc2385bf3a",
   "metadata": {},
   "outputs": [],
   "source": [
    "try: \n",
    "    # kode yang kita prediksi mungkin error\n",
    "except ExceptionType:\n",
    "    # penanganan error tertentu (atau semua error)\n",
    "else:\n",
    "    # hanya dijalankan jika TIDAK ada error\n",
    "finally:\n",
    "    #dijalankan selalu, cocok untuk membersihkan resource (tutup file, tutup koneksi)\n",
    "\n",
    "# catatan\n",
    "- jika user memasukan \"abc\" -> muncul ValueError\n",
    "- jika memasukkan 0 -> muncul ZeroDivisionError\n",
    "- jika memasukkan 5 -> masuk ke blok else.\n",
    "- finally jalan terus walau ada error."
   ]
  },
  {
   "cell_type": "code",
   "execution_count": 1,
   "id": "d1a19257-3f47-4a05-b2c4-07dde4519278",
   "metadata": {},
   "outputs": [
    {
     "name": "stdin",
     "output_type": "stream",
     "text": [
      "Masukkan angka:  10\n"
     ]
    },
    {
     "name": "stdout",
     "output_type": "stream",
     "text": [
      "1.0\n",
      "Perhitungan berhasil.\n",
      "Program selesai.\n"
     ]
    }
   ],
   "source": [
    "try:\n",
    "    angka = int(input(\"Masukkan angka: \"))\n",
    "    print(10 / angka)\n",
    "except ValueError:\n",
    "    print(\"Input harus angka!\")\n",
    "except ZeroDivisionError:\n",
    "    print(\"Tidak bisa membagi dengan nol!\")\n",
    "else:\n",
    "    print(\"Perhitungan berhasil.\")\n",
    "finally:\n",
    "    print(\"Program selesai.\")"
   ]
  },
  {
   "cell_type": "code",
   "execution_count": 33,
   "id": "3ae36f08-3636-457b-bc72-9870ab455c94",
   "metadata": {},
   "outputs": [
    {
     "name": "stdout",
     "output_type": "stream",
     "text": [
      "File tidak ditemukan. Pastikan nama file benar.\n"
     ]
    }
   ],
   "source": [
    "# Menangkap exception spesifik (FileNotFoundError)\n",
    "try:\n",
    "    with open(\"data_tidakada.txt\", \"r\") as f:\n",
    "        print(f.read())\n",
    "except FileNotFoundError:\n",
    "    print(\"File tidak ditemukan. Pastikan nama file benar.\")"
   ]
  },
  {
   "cell_type": "markdown",
   "id": "f653fbda-ba02-4e50-96c9-1781a5ca556d",
   "metadata": {},
   "source": [
    "# 2.) File I/O\n",
    "- Membuka file (open()) mode \"r\", \"w\", \"a\", \"rb\", \"wb\".\n",
    "- Membaca file (read(), readline(), readlines()).\n",
    "- Menulis file (write() dan writelines()).\n",
    "- Menggunalan context manager (with).\n",
    "- Membaca & menulis file CSV dengan modul csv."
   ]
  },
  {
   "cell_type": "code",
   "execution_count": 2,
   "id": "d616e969-6adf-47c9-b84c-e633c3e65925",
   "metadata": {},
   "outputs": [
    {
     "name": "stdout",
     "output_type": "stream",
     "text": [
      "Halo, dunia!\n"
     ]
    }
   ],
   "source": [
    "# Menulis ke file\n",
    "with open(\"data.txt\", \"w\") as f:\n",
    "    f.write(\"Halo, dunia!\\n\")\n",
    "\n",
    "# Membaca file\n",
    "with open(\"data.txt\", \"r\") as f:\n",
    "    for line in f:\n",
    "        print(line.strip())"
   ]
  },
  {
   "cell_type": "code",
   "execution_count": 28,
   "id": "eb03a38b-4214-4749-9084-26daa9189067",
   "metadata": {},
   "outputs": [
    {
     "name": "stdin",
     "output_type": "stream",
     "text": [
      "Deskripsi:  transaksi\n",
      "Jumlah:  20\n"
     ]
    },
    {
     "name": "stdout",
     "output_type": "stream",
     "text": [
      "Tansaksi tersimpan!\n"
     ]
    }
   ],
   "source": [
    "# mini project\n",
    "import csv\n",
    "import os\n",
    "from datetime import datetime\n",
    "\n",
    "file_name = \"transaksi.csv\"\n",
    "\n",
    "if not os.path.exists(file_name): \n",
    "    with open(file_name, \"w\", newline=\"\") as f:\n",
    "        write = csv.writer(f)\n",
    "        writer.writerow([\"Tanggal\", \"Deskripsi\", \"Jumlah\"])\n",
    "\n",
    "data = []\n",
    "with open(file_name, \"r\") as f:\n",
    "    reader = csv.reader(f)\n",
    "    try:\n",
    "        header = next(reader)   # skip header\n",
    "    except StopIteration: \n",
    "        header = []\n",
    "    else:\n",
    "        data = list(reader)\n",
    "\n",
    "# Input transaksi\n",
    "tanggal = datetime.now().strftime(\"%Y-%m-%d\")\n",
    "deskripsi = input(\"Deskripsi: \")\n",
    "jumlah = float(input(\"Jumlah: \"))\n",
    "\n",
    "with open(file_name, \"a\", newline=\"\") as f:\n",
    "    writer = csv.writer(f)\n",
    "    writer.writerow([tanggal, deskripsi, jumlah])\n",
    "print(\"Tansaksi tersimpan!\")"
   ]
  },
  {
   "cell_type": "code",
   "execution_count": 29,
   "id": "a392da77-64ac-4723-b6ec-542824bd2234",
   "metadata": {},
   "outputs": [
    {
     "name": "stdout",
     "output_type": "stream",
     "text": [
      "Total saldo sekarang: Rp30.0\n"
     ]
    }
   ],
   "source": [
    "# hitung total saldo\n",
    "total = sum(float(row[2]) for row in data) + jumlah\n",
    "print(f\"Total saldo sekarang: Rp{total}\")"
   ]
  },
  {
   "cell_type": "code",
   "execution_count": null,
   "id": "88d4e6af-1dab-4cec-a88d-dc9aa1c5d283",
   "metadata": {},
   "outputs": [],
   "source": []
  }
 ],
 "metadata": {
  "kernelspec": {
   "display_name": "Python 3 (ipykernel)",
   "language": "python",
   "name": "python3"
  },
  "language_info": {
   "codemirror_mode": {
    "name": "ipython",
    "version": 3
   },
   "file_extension": ".py",
   "mimetype": "text/x-python",
   "name": "python",
   "nbconvert_exporter": "python",
   "pygments_lexer": "ipython3",
   "version": "3.13.5"
  }
 },
 "nbformat": 4,
 "nbformat_minor": 5
}
