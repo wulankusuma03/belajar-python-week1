{
 "cells": [
  {
   "cell_type": "markdown",
   "id": "d0a1c815-7822-47a1-b490-5e0d0dc95e5a",
   "metadata": {},
   "source": [
    "# Hari ke-2 (Variabel, Operator & Struktur Data)"
   ]
  },
  {
   "cell_type": "code",
   "execution_count": 8,
   "id": "205c0a78-3560-4208-b47b-94ecb3aa1c3e",
   "metadata": {},
   "outputs": [
    {
     "name": "stdout",
     "output_type": "stream",
     "text": [
      "a + b: 124\n",
      "a - b: 116\n",
      "a * b: 480\n",
      "a / b: 30.0\n",
      "a ** b: 207360000\n",
      "a % b: 0\n"
     ]
    }
   ],
   "source": [
    "# Operator aritmatika\n",
    "a= 120\n",
    "b = 4\n",
    "\n",
    "print(\"a + b:\", a+b)   # penjumlahan \n",
    "print(\"a - b:\", a-b)   # pengurangan\n",
    "print(\"a * b:\", a*b)   # perkalian\n",
    "print(\"a / b:\", a/b)   # pembagian\n",
    "print(\"a ** b:\", a**b) # pangkat\n",
    "print(\"a % b:\", a%b)   # modulus"
   ]
  },
  {
   "cell_type": "code",
   "execution_count": 9,
   "id": "8c448acb-68e0-4c69-ad50-456a4147c7d8",
   "metadata": {},
   "outputs": [
    {
     "name": "stdout",
     "output_type": "stream",
     "text": [
      "x == y: False\n",
      "x != y: True\n",
      "x < y: True\n",
      "x > y: False\n"
     ]
    }
   ],
   "source": [
    "# Operator perbandingan\n",
    "x = 4\n",
    "y = 8\n",
    "\n",
    "print(\"x == y:\", x==y)   # sama dengan\n",
    "print(\"x != y:\", x!=y)   # tidak sama dengan\n",
    "print(\"x < y:\", x<y)     # lebih kecil\n",
    "print(\"x > y:\", x>y)     # lebih besar"
   ]
  },
  {
   "cell_type": "code",
   "execution_count": 10,
   "id": "c015bfb7-5b23-43e4-847e-a6aff1e1d234",
   "metadata": {},
   "outputs": [
    {
     "name": "stdout",
     "output_type": "stream",
     "text": [
      "Nilai bagus dan lulus: True\n",
      "Nilai jelek atau tidak hadir: False\n"
     ]
    }
   ],
   "source": [
    "# Operator logika ( and dan or)\n",
    "nilai = 80\n",
    "\n",
    "print(\"Nilai bagus dan lulus:\", nilai>70 and nilai>75)\n",
    "print(\"Nilai jelek atau tidak hadir:\", nilai<60 or nilai==0)"
   ]
  },
  {
   "cell_type": "code",
   "execution_count": 15,
   "id": "35168ff8-3283-4e81-b974-78ca4dee9646",
   "metadata": {},
   "outputs": [
    {
     "name": "stdout",
     "output_type": "stream",
     "text": [
      "Benar\n",
      "Manis\n",
      "Asam\n",
      "Maaf, kamu belum lulus.\n",
      "Benar\n"
     ]
    }
   ],
   "source": [
    "# Program percabangan (if) \n",
    "a = 3\n",
    "b = 5\n",
    "\n",
    "if a < b:\n",
    "    print(\"Benar\")\n",
    "    \n",
    "# Program percabangan (if-elif)\n",
    "a = \"jambu\"\n",
    "b = \"jambu\"\n",
    "\n",
    "if a != b: \n",
    "    print(\"Pahit\")\n",
    "elif a == b:\n",
    "    print(\"Manis\")\n",
    "\n",
    "c = \"mangga\"\n",
    "d = \"jambu\"\n",
    "\n",
    "if c != d:\n",
    "    print(\"Asam\")\n",
    "elif c == d:\n",
    "    print(\"Pahit\")\n",
    "    \n",
    "# Program percabangan (if-else)\n",
    "nilai_ujian = 72\n",
    "\n",
    "if nilai_ujian >= 75:\n",
    "    print(\"Kamu lulus!\")\n",
    "else:\n",
    "    print(\"Maaf, kamu belum lulus.\")\n",
    "\n",
    "a = 3\n",
    "b = 2\n",
    "c = 1\n",
    "\n",
    "if a > b and b > c:\n",
    "    print(\"Benar\")\n",
    "else:\n",
    "    print(\"Salah\")"
   ]
  },
  {
   "cell_type": "code",
   "execution_count": 18,
   "id": "e6937b24-f50c-4255-9ac6-2d76ece61102",
   "metadata": {},
   "outputs": [
    {
     "name": "stdout",
     "output_type": "stream",
     "text": [
      "x lebih besar daripada y\n",
      "Grade B\n"
     ]
    }
   ],
   "source": [
    "# Struktur percabangan (if-elif-else)\n",
    "x = 11\n",
    "y = 3\n",
    "\n",
    "if x > y:\n",
    "    print(\"x lebih besar daripada y\")\n",
    "elif x == y:\n",
    "    print(\"x sama dengan y\")\n",
    "else:\n",
    "    print(\"x lebih kecil daripada y\")\n",
    "    \n",
    "nilai_ujian = 88\n",
    "\n",
    "if nilai_ujian >= 90:\n",
    "    print(\"Grade A\")\n",
    "elif nilai_ujian >= 75:\n",
    "    print(\"Grade B\")\n",
    "elif nilai_ujian >+ 60:\n",
    "    print(\"Grade C\")\n",
    "else:\n",
    "    print(\"Grade D\")"
   ]
  },
  {
   "cell_type": "code",
   "execution_count": 20,
   "id": "c42c607b-84b4-4fb3-9796-74932ba0d2ca",
   "metadata": {},
   "outputs": [
    {
     "name": "stdout",
     "output_type": "stream",
     "text": [
      "33 adalah angka ganjil\n",
      "Kamu masih di bawah umur\n",
      "Beranjak Dewasa\n",
      "Beranjak Senja\n",
      "Hasil: 5.0\n"
     ]
    }
   ],
   "source": [
    "# Mengecek angka ganjil atau genap\n",
    "angka = 33\n",
    "\n",
    "if angka % 2 == 0:\n",
    "    print(f\"{angka} adalah angka genap\")\n",
    "else:\n",
    "    print(f\"{angka} adalah angka ganjil\")\n",
    "\n",
    "# Mengecek usia\n",
    "umur = 17\n",
    "\n",
    "if umur >= 18:\n",
    "    print(\"Kamu sudah dewasa\")\n",
    "else:\n",
    "    print(\"Kamu masih di bawah umur\")\n",
    "\n",
    "umur = 40\n",
    "\n",
    "if umur > 25:\n",
    "    print(\"Beranjak Dewasa\")\n",
    "    if 26 < umur < 39:\n",
    "        print(\"Dewasa Muda\")\n",
    "    else: print(\"Beranjak Senja\")\n",
    "\n",
    "# Kalkulator Mini\n",
    "x = 15\n",
    "y = 3\n",
    "operator = \"/\"\n",
    "\n",
    "if operator == \"+\":\n",
    "    print(\"Hasil:\", x+y)\n",
    "elif operator == \"-\":\n",
    "    print(\"Hasil:\", x-y)\n",
    "elif operator == \"*\":\n",
    "    print(\"Hasil:\", x*y)\n",
    "elif operator == \"/\":\n",
    "    print(\"Hasil:\", x/y)\n",
    "else:\n",
    "    print(\"Operator tidak di kenali\")"
   ]
  },
  {
   "cell_type": "code",
   "execution_count": 29,
   "id": "36345b9d-14de-4e79-8d7f-4119cc829eed",
   "metadata": {},
   "outputs": [
    {
     "name": "stdout",
     "output_type": "stream",
     "text": [
      "x = 1 y = 2 z = 3\n",
      "a = 20 b = 10\n",
      "Penugasan += : 8\n",
      "True\n",
      "False\n",
      "list_a is list_b: True\n",
      "list_a is not list_b: False\n",
      "True\n",
      "True\n",
      "'apel' in buah: True\n",
      "'anggur' not in buah: True\n",
      "Luar biasa!\n",
      "Status: Dewasa\n"
     ]
    }
   ],
   "source": [
    "# 1.  Variabel & multiple assignment\n",
    "x, y, z = 1, 2, 3\n",
    "print(\"x =\", x, \"y =\", y, \"z =\", z)\n",
    "\n",
    "# Swap varibel\n",
    "a, b = 10, 20\n",
    "a, b = b, a  # tukar nilai\n",
    "print(\"a =\", a, \"b =\", b)\n",
    "\n",
    "# 2. Operator penugasan (Assignment operators)\n",
    "x = 5\n",
    "x += 3  # sama dengan: x = x + 3\n",
    "print(\"Penugasan += :\", x)\n",
    "\n",
    "# Operator identitas (is, is not)\n",
    "x = [1,2,3]\n",
    "y = x\n",
    "print(x is y)      # True\n",
    "print(x is not y)  # False\n",
    "\n",
    "list_a = [3, 2, 1]\n",
    "list_b = list_a\n",
    "print(\"list_a is list_b:\", list_a is list_b)\n",
    "print(\"list_a is not list_b:\", list_a is not list_b)\n",
    "\n",
    "# Operator keanggotaan (in, not in)\n",
    "nama = \"Wulan\"\n",
    "print(\"a\" in nama)     # True\n",
    "print(\"z\" not in nama) # True\n",
    "\n",
    "buah = [\"apel\", \"jeruk\", \"mangga\"]\n",
    "print(\"'apel' in buah:\", \"apel\" in buah)\n",
    "print(\"'anggur' not in buah:\", \"anggur\" not in buah)\n",
    "\n",
    "# 3. Percabangan (struktur kontrol) lanjutan\n",
    "# Kondisi bersarang (Nested if)\n",
    "nilai = 85\n",
    "if nilai > 70:\n",
    "    if nilai > 80:\n",
    "        print(\"Luar biasa!\")\n",
    "    else:\n",
    "        print(\"Bagus\")\n",
    "else:\n",
    "    print(\"Kurang\")\n",
    "\n",
    "# Short-hand if \n",
    "umur = 25\n",
    "status = \"Dewasa\" if umur >= 24 else \"Remaja\"\n",
    "print(\"Status:\", status)"
   ]
  },
  {
   "cell_type": "code",
   "execution_count": null,
   "id": "242dde38-8fa2-4b5c-b4b2-b218df10b453",
   "metadata": {},
   "outputs": [],
   "source": []
  }
 ],
 "metadata": {
  "kernelspec": {
   "display_name": "Python 3 (ipykernel)",
   "language": "python",
   "name": "python3"
  },
  "language_info": {
   "codemirror_mode": {
    "name": "ipython",
    "version": 3
   },
   "file_extension": ".py",
   "mimetype": "text/x-python",
   "name": "python",
   "nbconvert_exporter": "python",
   "pygments_lexer": "ipython3",
   "version": "3.13.5"
  }
 },
 "nbformat": 4,
 "nbformat_minor": 5
}
