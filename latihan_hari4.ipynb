{
 "cells": [
  {
   "cell_type": "markdown",
   "id": "f7d34308-b3e2-412d-a27a-1a4788c79315",
   "metadata": {},
   "source": [
    "# Struktur Data (List, Tuple, Dictionary, Set)\n",
    "\n",
    "# 1.) List\n",
    "- Menyimpan banyak data terurut dan bisa di ubah (mutable)\n",
    "- Membuat list: my_list = [1, \"apel\", 3.14]\n",
    "- Mengakses elemen dengan indeks positif& negatif.\n",
    "- Slicing (my_list[1:3])\n",
    "- Mengubah elemen (my_list[0] = 10)\n",
    "- Menambah (append, extend, insert)\n",
    "- Menghapus (remove, pop, del)\n",
    "- Fungsi bawaan (len, sum, max, min, sorted)\n",
    "- List comprehension"
   ]
  },
  {
   "cell_type": "code",
   "execution_count": 18,
   "id": "27c62bfa-ec71-41a7-8b44-8ee7bd0ff054",
   "metadata": {},
   "outputs": [
    {
     "name": "stdout",
     "output_type": "stream",
     "text": [
      "['Charger', 'Keyboard', 'Laptop']\n",
      "Cart: ['Charger', 'Keyboard', 'Laptop']\n",
      "Kuadrat: [1, 4, 9, 16]\n"
     ]
    }
   ],
   "source": [
    "# Membuat list (daftar cart)\n",
    "cart = [\"Laptop\", \"Mouse\", \"Keyboard\"]\n",
    "\n",
    "# Menambahkan data\n",
    "cart.append(\"Charger\")\n",
    "\n",
    "# Menghapus data\n",
    "cart.remove(\"Mouse\")\n",
    "\n",
    "# Mengurutkan data\n",
    "cart.sort()\n",
    "\n",
    "# List comprehension: kuadrat angka 1-5\n",
    "kuadrat = [x**2 for x in range(1,5)]\n",
    "\n",
    "print(cart) \n",
    "print(\"Cart:\", cart)\n",
    "print(\"Kuadrat:\", kuadrat)"
   ]
  },
  {
   "cell_type": "code",
   "execution_count": 17,
   "id": "9e2f6dbd-7197-4629-9ebc-9b6d50251050",
   "metadata": {},
   "outputs": [
    {
     "name": "stdout",
     "output_type": "stream",
     "text": [
      "['Bakso', 'Ketoprak', 'Kwetiau Goreng, Soto', 'Mie Ayam', 'Sate']\n"
     ]
    }
   ],
   "source": [
    "# Latihan sederhana\n",
    "makanan_favorit = [\"Ketoprak\", \"Bakso\", \"Mie Ayam\", \"Sate\", \"Rendang\"]\n",
    "makanan_favorit.append(\"Kwetiau Goreng, \" + \"Soto\")\n",
    "makanan_favorit.remove(\"Rendang\")\n",
    "makanan_favorit.sort()\n",
    "print(makanan_favorit)"
   ]
  },
  {
   "cell_type": "markdown",
   "id": "b3043be9-576d-439d-884e-e751ad7b019c",
   "metadata": {},
   "source": [
    "# 2.) Tuple\n",
    "-  Digunakan untuk pengumpulan data dan tidak bisa diubah setelah dibuat seperti KTP (nama, tanggal lahir, dan NIK)\n",
    "-  Membuat tuple: my_tuple = (1, 2, 3)\n",
    "-  Mengakses elemen seperti list\n",
    "-  Unpacking: a, b, c = my_tuple\n",
    "-  Tuple bersarang\n",
    "-  Keuntungan tuple (kecepatan, keamanan data tetap)"
   ]
  },
  {
   "cell_type": "code",
   "execution_count": 19,
   "id": "f5c9aebd-07cc-446b-870c-16abd9803857",
   "metadata": {},
   "outputs": [
    {
     "name": "stdout",
     "output_type": "stream",
     "text": [
      "Lat: -7.23\n",
      "Long: 105.816666\n",
      "Lokasi kantor : Lat=-7.23, Long=105.816666\n"
     ]
    }
   ],
   "source": [
    "# Data lokasi kantor (Koordinat GPS - tidak berubah)\n",
    "lokasi_kantor = (-7.230000, 105.816666)\n",
    "# Lampung\n",
    "\n",
    "# Mengambil data\n",
    "latitude, longitude = lokasi_kantor\n",
    "print(\"Lat:\", latitude)\n",
    "print(\"Long:\", longitude)\n",
    "print(f\"Lokasi kantor : Lat={latitude}, Long={longitude}\")"
   ]
  },
  {
   "cell_type": "markdown",
   "id": "cb9dc638-bd12-4834-9c1a-833f6504b520",
   "metadata": {},
   "source": [
    "# 3.) Dictionary\n",
    "- Membuat dictionary: person = {\"nama\": \"Wulan\", \"umur\": 25}\n",
    "- Mengakses nilai lewat key\n",
    "- Menambah/ mengubah nilai\n",
    "- Menghapus (del, pop)\n",
    "- Looping for key, value in dict.items()\n",
    "- Fungsi penting: .keys(), .values(), .item().\n",
    "- Nested dictionary."
   ]
  },
  {
   "cell_type": "code",
   "execution_count": 23,
   "id": "46f7cf8e-aa2c-4207-8401-db37fd5bf3d4",
   "metadata": {},
   "outputs": [
    {
     "name": "stdout",
     "output_type": "stream",
     "text": [
      "nama: Wulan\n",
      "umur: 16\n",
      "nilai: 90\n",
      "kelas: 12A\n"
     ]
    }
   ],
   "source": [
    "# Data siswa\n",
    "siswi = {\n",
    "    \"nama\": \"Wulan\", \n",
    "    \"umur\": 16, \n",
    "    \"nilai\": 95\n",
    "}\n",
    "\n",
    "# Ubah nilai \n",
    "siswi[\"nilai\"] = 90\n",
    "\n",
    "# Tambah data baru\n",
    "siswi[\"kelas\"] = \"12A\"\n",
    "\n",
    "# Looping key-value (lihat semua data)\n",
    "for key, value in siswi.items():\n",
    "    print(f\"{key}: {value}\")"
   ]
  },
  {
   "cell_type": "code",
   "execution_count": 27,
   "id": "971125e9-f0f9-433f-805e-8ff6e84d7d5c",
   "metadata": {},
   "outputs": [
    {
     "name": "stdout",
     "output_type": "stream",
     "text": [
      "Nama: Wulan\n",
      "Umur: 25\n",
      "Kota: Austria\n",
      "Hobi: Membaca\n"
     ]
    }
   ],
   "source": [
    "# Latihan sederhana (dictionary)\n",
    "data_diri = {\n",
    "    \"Nama\": \"Wulan\",\n",
    "    \"Umur\": 25,\n",
    "    \"Kota\": \"Metro\"\n",
    "}\n",
    "\n",
    "# Ubah kota\n",
    "data_diri[\"Kota\"] = \"Austria\"\n",
    "\n",
    "# Tambah data baru\n",
    "data_diri[\"Hobi\"] = \"Membaca\"\n",
    "\n",
    "# Looping key-value\n",
    "for key, value in data_diri.items():\n",
    "    print(f\"{key}: {value}\")"
   ]
  },
  {
   "cell_type": "markdown",
   "id": "242b2b77-86db-462c-825a-160c895ea035",
   "metadata": {},
   "source": [
    "# 4.) Set\n",
    "- Membuat set: my_set = {1, 2, 3}\n",
    "- Menambah (add, update)\n",
    "- Menghapus (remove, discard, pop)\n",
    "- Operasi himpunan: | (union), & (interaction), - (difference), ^(symmetric difference)"
   ]
  },
  {
   "cell_type": "code",
   "execution_count": 28,
   "id": "41e0357c-dcb5-4155-956f-22bc08fcb175",
   "metadata": {},
   "outputs": [
    {
     "name": "stdout",
     "output_type": "stream",
     "text": [
      "Gabungan : {'Beben', 'Cici', 'Dwi', 'Ratu', 'Asep'}\n",
      "Irisan: {'Ratu'}\n"
     ]
    }
   ],
   "source": [
    "# Daftar peserta\n",
    "peserta_1 = {\"Asep\", \"Beben\", \"Ratu\"}\n",
    "peserta_2 = {\"Ratu\", \"Dwi\", \"Cici\"}\n",
    "\n",
    "# Gabungan\n",
    "print(\"Gabungan :\", peserta_1 | peserta_2)\n",
    "print(\"Irisan:\", peserta_1 & peserta_2)"
   ]
  },
  {
   "cell_type": "code",
   "execution_count": null,
   "id": "ea54a912-86e6-4b83-abb2-65228bc400ba",
   "metadata": {},
   "outputs": [],
   "source": []
  }
 ],
 "metadata": {
  "kernelspec": {
   "display_name": "Python 3 (ipykernel)",
   "language": "python",
   "name": "python3"
  },
  "language_info": {
   "codemirror_mode": {
    "name": "ipython",
    "version": 3
   },
   "file_extension": ".py",
   "mimetype": "text/x-python",
   "name": "python",
   "nbconvert_exporter": "python",
   "pygments_lexer": "ipython3",
   "version": "3.13.5"
  }
 },
 "nbformat": 4,
 "nbformat_minor": 5
}
